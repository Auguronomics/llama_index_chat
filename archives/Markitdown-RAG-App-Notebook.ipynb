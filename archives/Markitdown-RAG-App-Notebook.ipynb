{
 "cells": [
  {
   "cell_type": "markdown",
   "metadata": {},
   "source": [
    "# Open-Ollama-RAG-ChatApp Notebook"
   ]
  },
  {
   "cell_type": "code",
   "execution_count": 1,
   "metadata": {},
   "outputs": [],
   "source": [
    "from markitdown import MarkItDown\n",
    "md = MarkItDown()\n",
    "result_pdf = md.convert(\"raw/liste_med_2024-12-12_fr.pdf\")\n",
    "#print(result_pdf.text_content)\n",
    "with open(\"ramq/liste_med_2024-12-12_fr.md\",\"w+\",encoding=\"utf-8\") as md:\n",
    "    md.write(result_pdf.text_content)"
   ]
  },
  {
   "cell_type": "code",
   "execution_count": 5,
   "metadata": {},
   "outputs": [
    {
     "name": "stdout",
     "output_type": "stream",
     "text": [
      "Section 1 saved as ./raw/output_section_1.pdf\n",
      "Section 2 saved as ./raw/output_section_2.pdf\n",
      "Section 3 saved as ./raw/output_section_3.pdf\n",
      "Section 4 saved as ./raw/output_section_4.pdf\n",
      "Section 5 saved as ./raw/output_section_5.pdf\n",
      "Section 6 saved as ./raw/output_section_6.pdf\n",
      "Section 7 saved as ./raw/output_section_7.pdf\n",
      "Section 8 saved as ./raw/output_section_8.pdf\n"
     ]
    }
   ],
   "source": [
    "import PyPDF2\n",
    "\n",
    "def split_pdf_by_sections(input_pdf, sections, output_prefix):\n",
    "    # Open the input PDF file\n",
    "    with open(input_pdf, 'rb') as pdf_file:\n",
    "        reader = PyPDF2.PdfReader(pdf_file)\n",
    "        \n",
    "        for i, (start, end) in enumerate(sections):\n",
    "            writer = PyPDF2.PdfWriter()\n",
    "            \n",
    "            # Add pages to the writer for the current section\n",
    "            for page_number in range(start, end + 1):\n",
    "                writer.add_page(reader.pages[page_number])\n",
    "            \n",
    "            # Write the section to a new PDF file\n",
    "            output_filename = f\"{output_prefix}_section_{i + 1}.pdf\"\n",
    "            with open(output_filename, 'wb') as output_pdf:\n",
    "                writer.write(output_pdf)\n",
    "            print(f\"Section {i + 1} saved as {output_filename}\")\n",
    "\n",
    "# Example usage\n",
    "input_pdf = './raw/liste_med_2024-12-12_fr.pdf'\n",
    "sections = [(0,19),(20,21),(22,23),(24,39),(40,217),(218,229),(230,233),(234,765)]  # Define the page ranges for each section\n",
    "output_prefix = './raw/output'\n",
    "\n",
    "split_pdf_by_sections(input_pdf, sections, output_prefix)\n",
    "\n"
   ]
  },
  {
   "cell_type": "code",
   "execution_count": null,
   "metadata": {},
   "outputs": [],
   "source": [
    "from markitdown import MarkItDown\n",
    "md = MarkItDown()\n",
    "result_docx = md.convert(\"raw/liste_med_2024-12-12_fr.docx\")\n",
    "#print(result_pdf.text_content)\n",
    "with open(\"ramq/liste_med_2024-12-12_fr_winword.md\",\"w+\",encoding=\"utf-8\") as md:\n",
    "    md.write(result_docx.text_content)"
   ]
  },
  {
   "cell_type": "code",
   "execution_count": 1,
   "metadata": {},
   "outputs": [],
   "source": [
    "## initial database?\n",
    "# -> Set to True if you run the notebook for the first time or if you changed the md files\n",
    "initial_db = True"
   ]
  },
  {
   "cell_type": "code",
   "execution_count": 47,
   "metadata": {},
   "outputs": [],
   "source": [
    "DATA_PATH = \"ramq/\"\n",
    "OLLAMA_MODEL = \"llama3.2\"\n",
    "OLLAMA_URL = \"http://localhost:11434\"\n",
    "CHROMA_PATH = \"chroma/\"\n",
    "\n",
    "## langchain split config\n",
    "# md headers\n",
    "headers_to_split_on = [\n",
    "    (\"#\", \"Header 1\"),\n",
    "    (\"##\", \"Header 2\"),\n",
    "    (\"###\", \"Header 3\"),\n",
    "    (\"####\", \"Header 4\"),\n",
    "]\n",
    "\n",
    "# chunk sizes\n",
    "chunk_size = 500\n",
    "chunk_overlap = 100"
   ]
  },
  {
   "cell_type": "markdown",
   "metadata": {},
   "source": [
    "## Create chunks from md files"
   ]
  },
  {
   "cell_type": "code",
   "execution_count": 24,
   "metadata": {},
   "outputs": [],
   "source": [
    "#from langchain.document_loaders import TextLoader\n",
    "from langchain.document_loaders import TextLoader\n",
    "import os\n",
    "\n",
    "documents = []\n",
    "\n",
    "for file in os.listdir(DATA_PATH):\n",
    "    loader = TextLoader(DATA_PATH + file, encoding=\"utf-8\")\n",
    "    documents.append(loader.load()[0])"
   ]
  },
  {
   "cell_type": "code",
   "execution_count": null,
   "metadata": {},
   "outputs": [],
   "source": [
    "documents[0].metadata\n",
    "len(documents[0].page_content)"
   ]
  },
  {
   "cell_type": "code",
   "execution_count": 26,
   "metadata": {},
   "outputs": [],
   "source": [
    "# for doc in documents:\n",
    "#     print(doc.metadata)"
   ]
  },
  {
   "cell_type": "code",
   "execution_count": 27,
   "metadata": {},
   "outputs": [],
   "source": [
    "from langchain.text_splitter import MarkdownHeaderTextSplitter\n",
    "\n",
    "\n",
    "text_splitter = MarkdownHeaderTextSplitter(headers_to_split_on=headers_to_split_on, strip_headers=False)\n",
    "chunks_array= []\n",
    "\n",
    "\n",
    "for doc in documents:\n",
    "    chunks_array.append(text_splitter.split_text(doc.page_content))\n",
    "    # append source metadata to each chunk\n",
    "    for chunk in chunks_array[-1]:\n",
    "        # combine metadate\n",
    "        chunk.metadata = doc.metadata\n",
    "\n"
   ]
  },
  {
   "cell_type": "code",
   "execution_count": null,
   "metadata": {},
   "outputs": [],
   "source": [
    "len(chunks_array)"
   ]
  },
  {
   "cell_type": "code",
   "execution_count": 29,
   "metadata": {},
   "outputs": [],
   "source": [
    "# Char-level splits\n",
    "from langchain.text_splitter import RecursiveCharacterTextSplitter\n",
    "from langchain.text_splitter import MarkdownHeaderTextSplitter\n",
    "\n",
    "\n",
    "text_splitter = RecursiveCharacterTextSplitter(\n",
    "    chunk_size=chunk_size, chunk_overlap=chunk_overlap, length_function=len, add_start_index=True\n",
    ")\n"
   ]
  },
  {
   "cell_type": "code",
   "execution_count": 30,
   "metadata": {},
   "outputs": [],
   "source": [
    "chunks_array_txt_base = []\n",
    "counter = 0\n",
    "for document in chunks_array:\n",
    "    for chunk in document:\n",
    "        splits = text_splitter.split_documents([chunk])\n",
    "        chunks_array_txt_base.append(splits)\n",
    "        counter += 1\n",
    "        "
   ]
  },
  {
   "cell_type": "code",
   "execution_count": null,
   "metadata": {},
   "outputs": [],
   "source": [
    "print(counter)\n",
    "len(chunks_array_txt_base)"
   ]
  },
  {
   "cell_type": "code",
   "execution_count": 32,
   "metadata": {},
   "outputs": [],
   "source": [
    "all_document_chunks = [chunk for document in chunks_array_txt_base for chunk in document]"
   ]
  },
  {
   "cell_type": "code",
   "execution_count": null,
   "metadata": {},
   "outputs": [],
   "source": [
    "print(len(all_document_chunks))"
   ]
  },
  {
   "cell_type": "code",
   "execution_count": null,
   "metadata": {},
   "outputs": [],
   "source": [
    "all_document_chunks[1].page_content"
   ]
  },
  {
   "cell_type": "markdown",
   "metadata": {},
   "source": [
    "## Connect to ollama backend"
   ]
  },
  {
   "cell_type": "code",
   "execution_count": null,
   "metadata": {},
   "outputs": [],
   "source": [
    "# TEST OLLAMA CONNECTION ##\n",
    "from langchain_ollama import ChatOllama\n",
    "\n",
    "llm = ChatOllama(base_url=OLLAMA_URL, model=OLLAMA_MODEL)\n",
    "\n",
    "print(llm.invoke(\"Quelle est la durée maximale autorisation avec FRMANEZUMAB?\"))"
   ]
  },
  {
   "cell_type": "markdown",
   "metadata": {},
   "source": [
    "## Create vector db"
   ]
  },
  {
   "cell_type": "code",
   "execution_count": null,
   "metadata": {},
   "outputs": [],
   "source": [
    "all_document_chunks[0]"
   ]
  },
  {
   "cell_type": "code",
   "execution_count": 36,
   "metadata": {},
   "outputs": [],
   "source": [
    "# create chroma db or load db from disk\n",
    "if initial_db:\n",
    "    from langchain_ollama import OllamaEmbeddings\n",
    "    from langchain.vectorstores import Chroma\n",
    "\n",
    "    emb = OllamaEmbeddings(base_url=OLLAMA_URL,model=OLLAMA_MODEL)\n",
    "    vectorstore = Chroma.from_documents(all_document_chunks, emb, persist_directory=CHROMA_PATH)"
   ]
  },
  {
   "cell_type": "code",
   "execution_count": 54,
   "metadata": {},
   "outputs": [],
   "source": [
    "## load chroma db from disk\n",
    "from langchain_ollama import OllamaEmbeddings\n",
    "from langchain.vectorstores import Chroma\n",
    "\n",
    "vectorstore = Chroma(persist_directory=CHROMA_PATH, embedding_function=OllamaEmbeddings(base_url=OLLAMA_URL, model=OLLAMA_MODEL))"
   ]
  },
  {
   "cell_type": "code",
   "execution_count": null,
   "metadata": {},
   "outputs": [],
   "source": [
    "# test similarity search\n",
    "query = \"Quelle est la durée maximale autorisation avec FRMANEZUMAB?\"\n",
    "\n",
    "result_docs = vectorstore.similarity_search(query)\n",
    "result_docs\n"
   ]
  },
  {
   "cell_type": "markdown",
   "metadata": {},
   "source": [
    "## Gradio frontend"
   ]
  },
  {
   "cell_type": "code",
   "execution_count": 42,
   "metadata": {},
   "outputs": [],
   "source": [
    "from langchain_community.llms import Ollama\n",
    "\n",
    "def chat_ollama(message, history):\n",
    "    # initiate ollama\n",
    "    ollama = Ollama(base_url=OLLAMA_URL, model=OLLAMA_MODEL)\n",
    "\n",
    "    # search for similar documents in chroma db\n",
    "    result_chunks = chroma_db.similarity_search(message)\n",
    "    \n",
    "    chroma_knowledge = \"\"\n",
    "    for id, chunk in enumerate(result_chunks):\n",
    "        source_id = id + 1\n",
    "        chroma_knowledge += \"[\" + str(source_id) +\"] \\n\" + chunk.page_content + \"\\n\"\n",
    "\n",
    "    sources = \"\"\n",
    "    for id, chunk in enumerate(result_chunks):\n",
    "        source_id = id + 1\n",
    "        sources += \"[\" + str(source_id) + \"] \\n\" + chunk.metadata[\"source\"] + \"\\n\"\n",
    "\n",
    "    prompt = \"Answer the following question using the provided knowledge and the chat history:\\n\\n###KNOWLEDGE: \" + chroma_knowledge + \"\\n###CHAT-HISTORY: \" + str(history) + \"\\n\\n###QUESTION: \" + message\n",
    "    result = ollama(prompt) + \"\\n\\n\\nReferences:\\n\" + sources \n",
    "\n",
    "    # print(prompt)\n",
    "    \n",
    "    return result"
   ]
  },
  {
   "cell_type": "code",
   "execution_count": null,
   "metadata": {},
   "outputs": [],
   "source": [
    "chat_ollama(\"Quelle est la durée maximale d'autorisation du FRAMANEZUMAB?\", \"\")"
   ]
  },
  {
   "cell_type": "code",
   "execution_count": null,
   "metadata": {},
   "outputs": [],
   "source": [
    "import gradio as gr\n",
    "gradio_interface = gr.ChatInterface(\n",
    "        chat_ollama,\n",
    "        chatbot=gr.Chatbot(),\n",
    "        textbox=gr.Textbox(placeholder=\"Example: Who is Alice?\", container=False, scale=7),\n",
    "        title=\"The Ollama test chatbot\",\n",
    "        description=f\"Ask the {OLLAMA_MODEL} chatbot a question!\",\n",
    "        theme='gradio/base', # themes at https://huggingface.co/spaces/gradio/theme-gallery\n",
    "        #retry_btn=None,\n",
    "        #undo_btn=\"Delete Previous\",\n",
    "        #clear_btn=\"Clear\",\n",
    ")\n",
    "\n"
   ]
  },
  {
   "cell_type": "markdown",
   "metadata": {},
   "source": [
    "## Run app"
   ]
  },
  {
   "cell_type": "code",
   "execution_count": null,
   "metadata": {},
   "outputs": [],
   "source": [
    "gradio_interface.launch()"
   ]
  },
  {
   "cell_type": "code",
   "execution_count": 24,
   "metadata": {},
   "outputs": [],
   "source": [
    "### END OF FILE ###"
   ]
  }
 ],
 "metadata": {
  "kernelspec": {
   "display_name": "Python 3",
   "language": "python",
   "name": "python3"
  },
  "language_info": {
   "codemirror_mode": {
    "name": "ipython",
    "version": 3
   },
   "file_extension": ".py",
   "mimetype": "text/x-python",
   "name": "python",
   "nbconvert_exporter": "python",
   "pygments_lexer": "ipython3",
   "version": "3.12.8"
  }
 },
 "nbformat": 4,
 "nbformat_minor": 2
}
