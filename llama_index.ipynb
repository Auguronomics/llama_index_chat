{
 "cells": [
  {
   "cell_type": "markdown",
   "metadata": {},
   "source": [
    "## STAGING SPLIT RAMQ PDF into multiple document or annexes"
   ]
  },
  {
   "cell_type": "code",
   "execution_count": null,
   "metadata": {},
   "outputs": [],
   "source": [
    "import PyPDF2\n",
    "\n",
    "def split_pdf_by_sections(input_pdf, sections, output_prefix):\n",
    "    # Open the input PDF file\n",
    "    with open(input_pdf, 'rb') as pdf_file:\n",
    "        reader = PyPDF2.PdfReader(pdf_file)\n",
    "        \n",
    "        for i, (start, end) in enumerate(sections):\n",
    "            writer = PyPDF2.PdfWriter()\n",
    "            \n",
    "            # Add pages to the writer for the current section\n",
    "            for page_number in range(start, end + 1):\n",
    "                writer.add_page(reader.pages[page_number])\n",
    "            \n",
    "            # Write the section to a new PDF file\n",
    "            output_filename = f\"{output_prefix}_section_{i + 1}.pdf\"\n",
    "            with open(output_filename, 'wb') as output_pdf:\n",
    "                writer.write(output_pdf)\n",
    "            print(f\"Section {i + 1} saved as {output_filename}\")\n",
    "\n",
    "# Example usage\n",
    "input_pdf = './raw/liste_med_2024-12-12_fr.pdf'\n",
    "sections = [(0,19),(20,21),(22,23),(24,39),(40,217),(218,229),(230,233),(234,765)]  # Define the page ranges for each section\n",
    "output_prefix = './raw/output'\n",
    "\n",
    "split_pdf_by_sections(input_pdf, sections, output_prefix)"
   ]
  },
  {
   "cell_type": "markdown",
   "metadata": {},
   "source": [
    "_RAG Embedding_"
   ]
  },
  {
   "cell_type": "code",
   "execution_count": 1,
   "metadata": {},
   "outputs": [],
   "source": [
    "# import\n",
    "from llama_index.core import (\n",
    "    StorageContext,\n",
    "    VectorStoreIndex,\n",
    "    SimpleDirectoryReader,\n",
    "    PromptTemplate,\n",
    "    Settings\n",
    ")\n",
    "from llama_index.core.node_parser import SentenceSplitter\n",
    "from llama_index.vector_stores.duckdb import DuckDBVectorStore\n",
    "from llama_index.embeddings.ollama import OllamaEmbedding\n",
    "from llama_index.llms.ollama import Ollama\n",
    "from IPython.display import Markdown, display"
   ]
  },
  {
   "cell_type": "code",
   "execution_count": 2,
   "metadata": {},
   "outputs": [],
   "source": [
    "# Compute or reuse the duckdb database store\n",
    "live = False\n",
    "\n",
    "# define embedding function\n",
    "Settings.embed_model = OllamaEmbedding(\n",
    "    model_name=\"mxbai-embed-large\",\n",
    "    base_url=\"http://localhost:11434\",\n",
    "    ollama_additional_kwargs={\"mirostat\": 0},\n",
    ")\n",
    "# define llm model to interact with\n",
    "Settings.llm = Ollama(\n",
    "    model=\"llama3.2\",\n",
    "    base_url=\"http://localhost:11434\",\n",
    "    ollama_additional_kwargs={\"mirostat\": 0},\n",
    ")\n",
    "# Set the size of the chunk to be 512 tokens\n",
    "Settings.node_parser = SentenceSplitter(chunk_size=512, chunk_overlap=20)\n",
    "Settings.chunk_size = 512\n",
    "Settings.num_output = 512\n",
    "Settings.context_window = 3900\n",
    "\n",
    "def get_meta(file_path):\n",
    "    return {\"province\": \"Quebec\", \"Authority\":\"RAMQ\", \"file_path\": file_path}\n",
    "\n",
    "#LIVE\n",
    "if live :\n",
    "    # load documents \n",
    "    documents = SimpleDirectoryReader(input_dir=\"./ramq/\",file_metadata=get_meta).load_data()\n",
    "    # https://motherduck.com/blog/search-using-duckdb-part-2/\n",
    "    vector_store = DuckDBVectorStore(database_name=\"knowledge_base\", persist_dir=\"./duckdb_md/\")\n",
    "    storage_context = StorageContext.from_defaults(vector_store=vector_store)\n",
    "    knowledge_base = VectorStoreIndex.from_documents(documents, \n",
    "                                                     embed_model=Settings.embed_model,\n",
    "                                                     storage_context=storage_context, \n",
    "                                                     show_progress=True)\n",
    "else:\n",
    "    # Load embedding from disk\n",
    "    vector_store = DuckDBVectorStore.from_local(\"./duckdb/knowledge_base\")\n",
    "    knowledge_base = VectorStoreIndex.from_vector_store(vector_store)\n",
    "\n"
   ]
  },
  {
   "cell_type": "code",
   "execution_count": null,
   "metadata": {},
   "outputs": [],
   "source": [
    "import duckdb\n",
    "\n",
    "con = duckdb.connect(\"./duckdb/knowledge_base\")\n",
    "con.sql(\"SHOW TABLES;\")\n",
    "con.sql(\"SELECT * FROM documents\")"
   ]
  },
  {
   "cell_type": "code",
   "execution_count": null,
   "metadata": {},
   "outputs": [],
   "source": [
    "\n",
    "from llama_index.llms.ollama import Ollama\n",
    "user_query= \"Quelle est la marge bénéficiaire de McKesson ?\"\n",
    "llm = Ollama(model=\"llama3.2\", request_timeout=120.0)\n",
    "resp = llm.complete(user_query)\n",
    "display(Markdown(f\"{resp}\"))"
   ]
  },
  {
   "cell_type": "code",
   "execution_count": null,
   "metadata": {},
   "outputs": [],
   "source": [
    "user_query= \"Quelle est la marge bénéficiaire de McKesson et des autres ?\"\n",
    "#retriever = knowledge_base.as_retriever(similarity_top_k=3)\n",
    "#retrieved_nodes = retriever.retrieve(user_query)\n",
    "query_engine = knowledge_base.as_query_engine()\n",
    "\n",
    "# Run a query\n",
    "answer = query_engine.query(user_query)\n",
    "\n",
    "display(Markdown(f\"{answer.response}, \\n\\n Sources: \"))"
   ]
  },
  {
   "cell_type": "code",
   "execution_count": null,
   "metadata": {},
   "outputs": [],
   "source": [
    "# The query engine\n",
    "\n",
    "user_query= \"Que sais-tu du ADÉFOVIR DIPIVOXIL ?\"\n",
    "#retriever = knowledge_base.as_retriever(similarity_top_k=3)\n",
    "#retrieved_nodes = retriever.retrieve(user_query)\n",
    "query_engine = knowledge_base.as_query_engine()\n",
    "\n",
    "# Run a query\n",
    "answer = query_engine.query(user_query)\n",
    "\n",
    "display(Markdown(f\"{answer.response}, \\n\\n Sources: \"))"
   ]
  },
  {
   "cell_type": "code",
   "execution_count": null,
   "metadata": {},
   "outputs": [],
   "source": [
    "#TODO \n",
    "# https://docs.llamaindex.ai/en/stable/examples/llm/ollama/#structured-outputs"
   ]
  },
  {
   "cell_type": "code",
   "execution_count": null,
   "metadata": {},
   "outputs": [],
   "source": [
    "chatllm = knowledge_base.as_chat_engine()\n",
    "msg = chatllm.chat(user_query)\n",
    "display(Markdown(f\"{msg.response}, \\n\\n Sources: \"))"
   ]
  }
 ],
 "metadata": {
  "kernelspec": {
   "display_name": "Python 3",
   "language": "python",
   "name": "python3"
  },
  "language_info": {
   "codemirror_mode": {
    "name": "ipython",
    "version": 3
   },
   "file_extension": ".py",
   "mimetype": "text/x-python",
   "name": "python",
   "nbconvert_exporter": "python",
   "pygments_lexer": "ipython3",
   "version": "3.12.8"
  }
 },
 "nbformat": 4,
 "nbformat_minor": 2
}
